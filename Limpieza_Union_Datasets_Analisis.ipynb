{
  "cells": [
    {
      "cell_type": "markdown",
      "metadata": {
        "id": "view-in-github",
        "colab_type": "text"
      },
      "source": [
        "<a href=\"https://colab.research.google.com/github/davidjonathan01/AnalisisCasosCovid_PrimeraLimpieza/blob/main/Limpieza_Union_Datasets_Analisis.ipynb\" target=\"_parent\"><img src=\"https://colab.research.google.com/assets/colab-badge.svg\" alt=\"Open In Colab\"/></a>"
      ]
    },
    {
      "cell_type": "markdown",
      "metadata": {
        "id": "yg97eY4wRn_2"
      },
      "source": [
        "## Extraccion de datasets covid y obesidad"
      ]
    },
    {
      "cell_type": "markdown",
      "metadata": {
        "id": "TPJBZ4SvRn_3"
      },
      "source": [
        "Leemos el dataset de covid"
      ]
    },
    {
      "cell_type": "code",
      "execution_count": null,
      "metadata": {
        "id": "6it4qwvWRn_3"
      },
      "outputs": [],
      "source": [
        "#Carga de dataset\n",
        "import pandas as pd\n",
        "\n",
        "covid = pd.read_csv('covid.csv', sep=';')"
      ]
    },
    {
      "cell_type": "code",
      "execution_count": null,
      "metadata": {
        "id": "4lPV3bdtRn_4",
        "outputId": "59f318ed-e351-4473-a465-d0ed7368ab66"
      },
      "outputs": [
        {
          "data": {
            "text/html": [
              "<div>\n",
              "<style scoped>\n",
              "    .dataframe tbody tr th:only-of-type {\n",
              "        vertical-align: middle;\n",
              "    }\n",
              "\n",
              "    .dataframe tbody tr th {\n",
              "        vertical-align: top;\n",
              "    }\n",
              "\n",
              "    .dataframe thead th {\n",
              "        text-align: right;\n",
              "    }\n",
              "</style>\n",
              "<table border=\"1\" class=\"dataframe\">\n",
              "  <thead>\n",
              "    <tr style=\"text-align: right;\">\n",
              "      <th></th>\n",
              "      <th>cases</th>\n",
              "      <th>deaths</th>\n",
              "      <th>countriesAndTerritories</th>\n",
              "      <th>continentExp</th>\n",
              "      <th>Cumulative_number_for_14_days_of_COVID-19_cases_per_100000</th>\n",
              "    </tr>\n",
              "  </thead>\n",
              "  <tbody>\n",
              "    <tr>\n",
              "      <th>0</th>\n",
              "      <td>0</td>\n",
              "      <td>0</td>\n",
              "      <td>Afghanistan</td>\n",
              "      <td>Asia</td>\n",
              "      <td>NaN</td>\n",
              "    </tr>\n",
              "    <tr>\n",
              "      <th>1</th>\n",
              "      <td>0</td>\n",
              "      <td>0</td>\n",
              "      <td>Algeria</td>\n",
              "      <td>Africa</td>\n",
              "      <td>NaN</td>\n",
              "    </tr>\n",
              "    <tr>\n",
              "      <th>2</th>\n",
              "      <td>0</td>\n",
              "      <td>0</td>\n",
              "      <td>Armenia</td>\n",
              "      <td>Europe</td>\n",
              "      <td>NaN</td>\n",
              "    </tr>\n",
              "    <tr>\n",
              "      <th>3</th>\n",
              "      <td>0</td>\n",
              "      <td>0</td>\n",
              "      <td>Australia</td>\n",
              "      <td>Oceania</td>\n",
              "      <td>NaN</td>\n",
              "    </tr>\n",
              "    <tr>\n",
              "      <th>4</th>\n",
              "      <td>0</td>\n",
              "      <td>0</td>\n",
              "      <td>Austria</td>\n",
              "      <td>Europe</td>\n",
              "      <td>NaN</td>\n",
              "    </tr>\n",
              "    <tr>\n",
              "      <th>...</th>\n",
              "      <td>...</td>\n",
              "      <td>...</td>\n",
              "      <td>...</td>\n",
              "      <td>...</td>\n",
              "      <td>...</td>\n",
              "    </tr>\n",
              "    <tr>\n",
              "      <th>61895</th>\n",
              "      <td>0</td>\n",
              "      <td>0</td>\n",
              "      <td>Wallis and Futuna</td>\n",
              "      <td>Oceania</td>\n",
              "      <td>NaN</td>\n",
              "    </tr>\n",
              "    <tr>\n",
              "      <th>61896</th>\n",
              "      <td>0</td>\n",
              "      <td>0</td>\n",
              "      <td>Western Sahara</td>\n",
              "      <td>Africa</td>\n",
              "      <td>0.000000</td>\n",
              "    </tr>\n",
              "    <tr>\n",
              "      <th>61897</th>\n",
              "      <td>0</td>\n",
              "      <td>0</td>\n",
              "      <td>Yemen</td>\n",
              "      <td>Asia</td>\n",
              "      <td>0.020575</td>\n",
              "    </tr>\n",
              "    <tr>\n",
              "      <th>61898</th>\n",
              "      <td>57</td>\n",
              "      <td>1</td>\n",
              "      <td>Zambia</td>\n",
              "      <td>Africa</td>\n",
              "      <td>3.728787</td>\n",
              "    </tr>\n",
              "    <tr>\n",
              "      <th>61899</th>\n",
              "      <td>27</td>\n",
              "      <td>0</td>\n",
              "      <td>Zimbabwe</td>\n",
              "      <td>Africa</td>\n",
              "      <td>8.849151</td>\n",
              "    </tr>\n",
              "  </tbody>\n",
              "</table>\n",
              "<p>61900 rows × 5 columns</p>\n",
              "</div>"
            ],
            "text/plain": [
              "       cases  deaths countriesAndTerritories continentExp  \\\n",
              "0          0       0             Afghanistan         Asia   \n",
              "1          0       0                 Algeria       Africa   \n",
              "2          0       0                 Armenia       Europe   \n",
              "3          0       0               Australia      Oceania   \n",
              "4          0       0                 Austria       Europe   \n",
              "...      ...     ...                     ...          ...   \n",
              "61895      0       0       Wallis and Futuna      Oceania   \n",
              "61896      0       0          Western Sahara       Africa   \n",
              "61897      0       0                   Yemen         Asia   \n",
              "61898     57       1                  Zambia       Africa   \n",
              "61899     27       0                Zimbabwe       Africa   \n",
              "\n",
              "       Cumulative_number_for_14_days_of_COVID-19_cases_per_100000  \n",
              "0                                                    NaN           \n",
              "1                                                    NaN           \n",
              "2                                                    NaN           \n",
              "3                                                    NaN           \n",
              "4                                                    NaN           \n",
              "...                                                  ...           \n",
              "61895                                                NaN           \n",
              "61896                                           0.000000           \n",
              "61897                                           0.020575           \n",
              "61898                                           3.728787           \n",
              "61899                                           8.849151           \n",
              "\n",
              "[61900 rows x 5 columns]"
            ]
          },
          "execution_count": 3,
          "metadata": {},
          "output_type": "execute_result"
        }
      ],
      "source": [
        "covid"
      ]
    },
    {
      "cell_type": "markdown",
      "metadata": {
        "id": "ODJUj5Z8Rn_5"
      },
      "source": [
        "Verificamos su tipo de datos , estadisticos y hacemos limpieza necesaria"
      ]
    },
    {
      "cell_type": "code",
      "execution_count": null,
      "metadata": {
        "id": "gvPwQVBCRn_5",
        "outputId": "fe45c0ff-c7dd-4468-d667-656134c655f6"
      },
      "outputs": [
        {
          "name": "stdout",
          "output_type": "stream",
          "text": [
            "<class 'pandas.core.frame.DataFrame'>\n",
            "RangeIndex: 61900 entries, 0 to 61899\n",
            "Data columns (total 5 columns):\n",
            " #   Column                                                      Non-Null Count  Dtype  \n",
            "---  ------                                                      --------------  -----  \n",
            " 0   cases                                                       61900 non-null  int64  \n",
            " 1   deaths                                                      61900 non-null  int64  \n",
            " 2   countriesAndTerritories                                     61900 non-null  object \n",
            " 3   continentExp                                                61900 non-null  object \n",
            " 4   Cumulative_number_for_14_days_of_COVID-19_cases_per_100000  59021 non-null  float64\n",
            "dtypes: float64(1), int64(2), object(2)\n",
            "memory usage: 2.4+ MB\n"
          ]
        }
      ],
      "source": [
        "covid.info()"
      ]
    },
    {
      "cell_type": "code",
      "execution_count": null,
      "metadata": {
        "id": "pqao9styRn_6",
        "outputId": "9a36ee3c-c613-421a-9e66-53608edc06cb"
      },
      "outputs": [
        {
          "data": {
            "text/plain": [
              "cases                                                         61900\n",
              "deaths                                                        61900\n",
              "countriesAndTerritories                                       61900\n",
              "continentExp                                                  61900\n",
              "Cumulative_number_for_14_days_of_COVID-19_cases_per_100000    59021\n",
              "dtype: int64"
            ]
          },
          "execution_count": 5,
          "metadata": {},
          "output_type": "execute_result"
        }
      ],
      "source": [
        "covid.count()"
      ]
    },
    {
      "cell_type": "code",
      "execution_count": null,
      "metadata": {
        "id": "pvkawEDgRn_6"
      },
      "outputs": [],
      "source": [
        "covid.dropna(axis=0, inplace= True)"
      ]
    },
    {
      "cell_type": "code",
      "execution_count": null,
      "metadata": {
        "id": "fjiBdVi8Rn_7",
        "outputId": "7b7767f6-8dbf-4062-c84a-6b0fa81b39ba"
      },
      "outputs": [
        {
          "data": {
            "text/plain": [
              "cases                                                         59021\n",
              "deaths                                                        59021\n",
              "countriesAndTerritories                                       59021\n",
              "continentExp                                                  59021\n",
              "Cumulative_number_for_14_days_of_COVID-19_cases_per_100000    59021\n",
              "dtype: int64"
            ]
          },
          "execution_count": 7,
          "metadata": {},
          "output_type": "execute_result"
        }
      ],
      "source": [
        "covid.count()"
      ]
    },
    {
      "cell_type": "code",
      "execution_count": null,
      "metadata": {
        "id": "MBJmoPETRn_7",
        "outputId": "63be4fe9-cae3-47f4-eae5-b93a80ea36f1"
      },
      "outputs": [
        {
          "data": {
            "text/html": [
              "<div>\n",
              "<style scoped>\n",
              "    .dataframe tbody tr th:only-of-type {\n",
              "        vertical-align: middle;\n",
              "    }\n",
              "\n",
              "    .dataframe tbody tr th {\n",
              "        vertical-align: top;\n",
              "    }\n",
              "\n",
              "    .dataframe thead th {\n",
              "        text-align: right;\n",
              "    }\n",
              "</style>\n",
              "<table border=\"1\" class=\"dataframe\">\n",
              "  <thead>\n",
              "    <tr style=\"text-align: right;\">\n",
              "      <th></th>\n",
              "      <th>cases</th>\n",
              "      <th>deaths</th>\n",
              "      <th>Cumulative_number_for_14_days_of_COVID-19_cases_per_100000</th>\n",
              "    </tr>\n",
              "  </thead>\n",
              "  <tbody>\n",
              "    <tr>\n",
              "      <th>count</th>\n",
              "      <td>59021.000000</td>\n",
              "      <td>59021.000000</td>\n",
              "      <td>59021.000000</td>\n",
              "    </tr>\n",
              "    <tr>\n",
              "      <th>mean</th>\n",
              "      <td>1211.297420</td>\n",
              "      <td>27.322783</td>\n",
              "      <td>66.320586</td>\n",
              "    </tr>\n",
              "    <tr>\n",
              "      <th>std</th>\n",
              "      <td>6937.716248</td>\n",
              "      <td>134.260984</td>\n",
              "      <td>162.329240</td>\n",
              "    </tr>\n",
              "    <tr>\n",
              "      <th>min</th>\n",
              "      <td>-8261.000000</td>\n",
              "      <td>-1918.000000</td>\n",
              "      <td>-147.419587</td>\n",
              "    </tr>\n",
              "    <tr>\n",
              "      <th>25%</th>\n",
              "      <td>0.000000</td>\n",
              "      <td>0.000000</td>\n",
              "      <td>0.757526</td>\n",
              "    </tr>\n",
              "    <tr>\n",
              "      <th>50%</th>\n",
              "      <td>20.000000</td>\n",
              "      <td>0.000000</td>\n",
              "      <td>6.724045</td>\n",
              "    </tr>\n",
              "    <tr>\n",
              "      <th>75%</th>\n",
              "      <td>309.000000</td>\n",
              "      <td>5.000000</td>\n",
              "      <td>52.572719</td>\n",
              "    </tr>\n",
              "    <tr>\n",
              "      <th>max</th>\n",
              "      <td>234633.000000</td>\n",
              "      <td>4928.000000</td>\n",
              "      <td>1900.836210</td>\n",
              "    </tr>\n",
              "  </tbody>\n",
              "</table>\n",
              "</div>"
            ],
            "text/plain": [
              "               cases        deaths  \\\n",
              "count   59021.000000  59021.000000   \n",
              "mean     1211.297420     27.322783   \n",
              "std      6937.716248    134.260984   \n",
              "min     -8261.000000  -1918.000000   \n",
              "25%         0.000000      0.000000   \n",
              "50%        20.000000      0.000000   \n",
              "75%       309.000000      5.000000   \n",
              "max    234633.000000   4928.000000   \n",
              "\n",
              "       Cumulative_number_for_14_days_of_COVID-19_cases_per_100000  \n",
              "count                                       59021.000000           \n",
              "mean                                           66.320586           \n",
              "std                                           162.329240           \n",
              "min                                          -147.419587           \n",
              "25%                                             0.757526           \n",
              "50%                                             6.724045           \n",
              "75%                                            52.572719           \n",
              "max                                          1900.836210           "
            ]
          },
          "execution_count": 8,
          "metadata": {},
          "output_type": "execute_result"
        }
      ],
      "source": [
        "covid.describe()"
      ]
    },
    {
      "cell_type": "markdown",
      "metadata": {
        "id": "SICHP5f0Rn_7"
      },
      "source": [
        "Aplicamos filtrado y eliminacion de filas innecesarias"
      ]
    },
    {
      "cell_type": "code",
      "execution_count": null,
      "metadata": {
        "id": "CVyieBJvRn_7"
      },
      "outputs": [],
      "source": [
        "covid= covid[(covid[\"cases\"]>=0) & (covid[\"deaths\"]>=0) & (covid[\"Cumulative_number_for_14_days_of_COVID-19_cases_per_100000\"]>=0)]"
      ]
    },
    {
      "cell_type": "markdown",
      "metadata": {
        "id": "mTSqo-kFRn_8"
      },
      "source": [
        "Evaluamos el data set luego de eliminar filas con valores absurdos"
      ]
    },
    {
      "cell_type": "code",
      "execution_count": null,
      "metadata": {
        "id": "TUDNFVm0Rn_8",
        "outputId": "11e52d91-d53a-4a68-dce8-f45ad8f3bb47"
      },
      "outputs": [
        {
          "data": {
            "text/html": [
              "<div>\n",
              "<style scoped>\n",
              "    .dataframe tbody tr th:only-of-type {\n",
              "        vertical-align: middle;\n",
              "    }\n",
              "\n",
              "    .dataframe tbody tr th {\n",
              "        vertical-align: top;\n",
              "    }\n",
              "\n",
              "    .dataframe thead th {\n",
              "        text-align: right;\n",
              "    }\n",
              "</style>\n",
              "<table border=\"1\" class=\"dataframe\">\n",
              "  <thead>\n",
              "    <tr style=\"text-align: right;\">\n",
              "      <th></th>\n",
              "      <th>cases</th>\n",
              "      <th>deaths</th>\n",
              "      <th>Cumulative_number_for_14_days_of_COVID-19_cases_per_100000</th>\n",
              "    </tr>\n",
              "  </thead>\n",
              "  <tbody>\n",
              "    <tr>\n",
              "      <th>count</th>\n",
              "      <td>58959.000000</td>\n",
              "      <td>58959.000000</td>\n",
              "      <td>58959.000000</td>\n",
              "    </tr>\n",
              "    <tr>\n",
              "      <th>mean</th>\n",
              "      <td>1212.754168</td>\n",
              "      <td>27.316135</td>\n",
              "      <td>66.402666</td>\n",
              "    </tr>\n",
              "    <tr>\n",
              "      <th>std</th>\n",
              "      <td>6941.109276</td>\n",
              "      <td>133.162595</td>\n",
              "      <td>162.373044</td>\n",
              "    </tr>\n",
              "    <tr>\n",
              "      <th>min</th>\n",
              "      <td>0.000000</td>\n",
              "      <td>0.000000</td>\n",
              "      <td>0.000000</td>\n",
              "    </tr>\n",
              "    <tr>\n",
              "      <th>25%</th>\n",
              "      <td>0.000000</td>\n",
              "      <td>0.000000</td>\n",
              "      <td>0.763241</td>\n",
              "    </tr>\n",
              "    <tr>\n",
              "      <th>50%</th>\n",
              "      <td>20.000000</td>\n",
              "      <td>0.000000</td>\n",
              "      <td>6.732521</td>\n",
              "    </tr>\n",
              "    <tr>\n",
              "      <th>75%</th>\n",
              "      <td>310.000000</td>\n",
              "      <td>5.000000</td>\n",
              "      <td>52.601692</td>\n",
              "    </tr>\n",
              "    <tr>\n",
              "      <th>max</th>\n",
              "      <td>234633.000000</td>\n",
              "      <td>4928.000000</td>\n",
              "      <td>1900.836210</td>\n",
              "    </tr>\n",
              "  </tbody>\n",
              "</table>\n",
              "</div>"
            ],
            "text/plain": [
              "               cases        deaths  \\\n",
              "count   58959.000000  58959.000000   \n",
              "mean     1212.754168     27.316135   \n",
              "std      6941.109276    133.162595   \n",
              "min         0.000000      0.000000   \n",
              "25%         0.000000      0.000000   \n",
              "50%        20.000000      0.000000   \n",
              "75%       310.000000      5.000000   \n",
              "max    234633.000000   4928.000000   \n",
              "\n",
              "       Cumulative_number_for_14_days_of_COVID-19_cases_per_100000  \n",
              "count                                       58959.000000           \n",
              "mean                                           66.402666           \n",
              "std                                           162.373044           \n",
              "min                                             0.000000           \n",
              "25%                                             0.763241           \n",
              "50%                                             6.732521           \n",
              "75%                                            52.601692           \n",
              "max                                          1900.836210           "
            ]
          },
          "execution_count": 11,
          "metadata": {},
          "output_type": "execute_result"
        }
      ],
      "source": [
        "covid.describe()"
      ]
    },
    {
      "cell_type": "markdown",
      "metadata": {
        "id": "vfyX4OWkRn_8"
      },
      "source": [
        "Renombramos columnas a español"
      ]
    },
    {
      "cell_type": "code",
      "execution_count": null,
      "metadata": {
        "id": "bLILr0PxRn_8",
        "outputId": "631672e1-0d46-42bd-95c5-4a1e7ff69990"
      },
      "outputs": [
        {
          "name": "stderr",
          "output_type": "stream",
          "text": [
            "C:\\Users\\Usuario\\AppData\\Local\\Temp\\ipykernel_22832\\1148080038.py:1: SettingWithCopyWarning: \n",
            "A value is trying to be set on a copy of a slice from a DataFrame\n",
            "\n",
            "See the caveats in the documentation: https://pandas.pydata.org/pandas-docs/stable/user_guide/indexing.html#returning-a-view-versus-a-copy\n",
            "  covid.rename(columns = {\n"
          ]
        }
      ],
      "source": [
        "covid.rename(columns = {\n",
        "     'cases': 'Casos',\n",
        "     'deaths': 'Muertes',\n",
        "     'countriesAndTerritories': 'Lugar',\n",
        "     'continentExp': 'Continente',\n",
        "     'Cumulative_number_for_14_days_of_COVID-19_cases_per_100000': 'Casos_por_100000_hab_ultimos_14_dias'} , inplace= True)"
      ]
    },
    {
      "cell_type": "markdown",
      "metadata": {
        "id": "xmZOuonyRn_8"
      },
      "source": [
        "Ahora leemos el data obesidad"
      ]
    },
    {
      "cell_type": "code",
      "execution_count": null,
      "metadata": {
        "id": "HbaRh9YJRn_9",
        "outputId": "e0a88966-28e7-46de-eed6-db945f29d457"
      },
      "outputs": [
        {
          "data": {
            "text/html": [
              "<div>\n",
              "<style scoped>\n",
              "    .dataframe tbody tr th:only-of-type {\n",
              "        vertical-align: middle;\n",
              "    }\n",
              "\n",
              "    .dataframe tbody tr th {\n",
              "        vertical-align: top;\n",
              "    }\n",
              "\n",
              "    .dataframe thead th {\n",
              "        text-align: right;\n",
              "    }\n",
              "</style>\n",
              "<table border=\"1\" class=\"dataframe\">\n",
              "  <thead>\n",
              "    <tr style=\"text-align: right;\">\n",
              "      <th></th>\n",
              "      <th>Countries, territories and areas</th>\n",
              "      <th>Obesity_BothSexes_Value</th>\n",
              "      <th>Obesity_Male_Value</th>\n",
              "      <th>Obesity_Female_Value</th>\n",
              "      <th>Obesity_BothSexes_RangeLower</th>\n",
              "      <th>Obesity_BothSexes_RangeUpper</th>\n",
              "      <th>Obesity_Male_RangeLower</th>\n",
              "      <th>Obesity_Male_RangeUpper</th>\n",
              "      <th>Obesity_Female_RangeLower</th>\n",
              "      <th>Obesity_Female_RangeUpper</th>\n",
              "    </tr>\n",
              "  </thead>\n",
              "  <tbody>\n",
              "    <tr>\n",
              "      <th>0</th>\n",
              "      <td>Afghanistan</td>\n",
              "      <td>19.7</td>\n",
              "      <td>17.1</td>\n",
              "      <td>22.2</td>\n",
              "      <td>15.8</td>\n",
              "      <td>24.0</td>\n",
              "      <td>11.8</td>\n",
              "      <td>23.6</td>\n",
              "      <td>16.8</td>\n",
              "      <td>28.5</td>\n",
              "    </tr>\n",
              "    <tr>\n",
              "      <th>1</th>\n",
              "      <td>Albania</td>\n",
              "      <td>58.7</td>\n",
              "      <td>64.9</td>\n",
              "      <td>52.8</td>\n",
              "      <td>53.8</td>\n",
              "      <td>63.5</td>\n",
              "      <td>57.9</td>\n",
              "      <td>71.4</td>\n",
              "      <td>45.8</td>\n",
              "      <td>59.6</td>\n",
              "    </tr>\n",
              "    <tr>\n",
              "      <th>2</th>\n",
              "      <td>Algeria</td>\n",
              "      <td>60.7</td>\n",
              "      <td>56.7</td>\n",
              "      <td>64.8</td>\n",
              "      <td>56.0</td>\n",
              "      <td>65.4</td>\n",
              "      <td>49.7</td>\n",
              "      <td>63.5</td>\n",
              "      <td>58.3</td>\n",
              "      <td>71.0</td>\n",
              "    </tr>\n",
              "    <tr>\n",
              "      <th>3</th>\n",
              "      <td>Andorra</td>\n",
              "      <td>68.1</td>\n",
              "      <td>74.5</td>\n",
              "      <td>61.9</td>\n",
              "      <td>63.1</td>\n",
              "      <td>72.7</td>\n",
              "      <td>67.8</td>\n",
              "      <td>80.3</td>\n",
              "      <td>54.6</td>\n",
              "      <td>68.8</td>\n",
              "    </tr>\n",
              "    <tr>\n",
              "      <th>4</th>\n",
              "      <td>Angola</td>\n",
              "      <td>23.9</td>\n",
              "      <td>17.2</td>\n",
              "      <td>30.4</td>\n",
              "      <td>19.0</td>\n",
              "      <td>29.2</td>\n",
              "      <td>10.9</td>\n",
              "      <td>24.1</td>\n",
              "      <td>23.1</td>\n",
              "      <td>38.5</td>\n",
              "    </tr>\n",
              "    <tr>\n",
              "      <th>...</th>\n",
              "      <td>...</td>\n",
              "      <td>...</td>\n",
              "      <td>...</td>\n",
              "      <td>...</td>\n",
              "      <td>...</td>\n",
              "      <td>...</td>\n",
              "      <td>...</td>\n",
              "      <td>...</td>\n",
              "      <td>...</td>\n",
              "      <td>...</td>\n",
              "    </tr>\n",
              "    <tr>\n",
              "      <th>190</th>\n",
              "      <td>Venezuela (Bolivarian Republic of)</td>\n",
              "      <td>62.6</td>\n",
              "      <td>62</td>\n",
              "      <td>63.2</td>\n",
              "      <td>58.4</td>\n",
              "      <td>66.9</td>\n",
              "      <td>55.9</td>\n",
              "      <td>68.2</td>\n",
              "      <td>57.1</td>\n",
              "      <td>69.1</td>\n",
              "    </tr>\n",
              "    <tr>\n",
              "      <th>191</th>\n",
              "      <td>Viet Nam</td>\n",
              "      <td>18.3</td>\n",
              "      <td>15.9</td>\n",
              "      <td>20.5</td>\n",
              "      <td>14.7</td>\n",
              "      <td>21.7</td>\n",
              "      <td>11.5</td>\n",
              "      <td>21.0</td>\n",
              "      <td>15.6</td>\n",
              "      <td>25.8</td>\n",
              "    </tr>\n",
              "    <tr>\n",
              "      <th>192</th>\n",
              "      <td>Yemen</td>\n",
              "      <td>42.3</td>\n",
              "      <td>38.3</td>\n",
              "      <td>46.3</td>\n",
              "      <td>37.5</td>\n",
              "      <td>47.3</td>\n",
              "      <td>31.0</td>\n",
              "      <td>45.4</td>\n",
              "      <td>39.5</td>\n",
              "      <td>53.0</td>\n",
              "    </tr>\n",
              "    <tr>\n",
              "      <th>193</th>\n",
              "      <td>Zambia</td>\n",
              "      <td>23.9</td>\n",
              "      <td>16.7</td>\n",
              "      <td>31</td>\n",
              "      <td>20.2</td>\n",
              "      <td>27.9</td>\n",
              "      <td>11.8</td>\n",
              "      <td>22.5</td>\n",
              "      <td>25.6</td>\n",
              "      <td>36.9</td>\n",
              "    </tr>\n",
              "    <tr>\n",
              "      <th>194</th>\n",
              "      <td>Zimbabwe</td>\n",
              "      <td>32.4</td>\n",
              "      <td>18.8</td>\n",
              "      <td>45.5</td>\n",
              "      <td>28.2</td>\n",
              "      <td>36.8</td>\n",
              "      <td>13.6</td>\n",
              "      <td>24.4</td>\n",
              "      <td>39.1</td>\n",
              "      <td>52.1</td>\n",
              "    </tr>\n",
              "  </tbody>\n",
              "</table>\n",
              "<p>195 rows × 10 columns</p>\n",
              "</div>"
            ],
            "text/plain": [
              "       Countries, territories and areas Obesity_BothSexes_Value  \\\n",
              "0                           Afghanistan                    19.7   \n",
              "1                               Albania                    58.7   \n",
              "2                               Algeria                    60.7   \n",
              "3                               Andorra                    68.1   \n",
              "4                                Angola                    23.9   \n",
              "..                                  ...                     ...   \n",
              "190  Venezuela (Bolivarian Republic of)                    62.6   \n",
              "191                            Viet Nam                    18.3   \n",
              "192                               Yemen                    42.3   \n",
              "193                              Zambia                    23.9   \n",
              "194                            Zimbabwe                    32.4   \n",
              "\n",
              "    Obesity_Male_Value Obesity_Female_Value  Obesity_BothSexes_RangeLower  \\\n",
              "0                 17.1                 22.2                          15.8   \n",
              "1                 64.9                 52.8                          53.8   \n",
              "2                 56.7                 64.8                          56.0   \n",
              "3                 74.5                 61.9                          63.1   \n",
              "4                 17.2                 30.4                          19.0   \n",
              "..                 ...                  ...                           ...   \n",
              "190                 62                 63.2                          58.4   \n",
              "191               15.9                 20.5                          14.7   \n",
              "192               38.3                 46.3                          37.5   \n",
              "193               16.7                   31                          20.2   \n",
              "194               18.8                 45.5                          28.2   \n",
              "\n",
              "     Obesity_BothSexes_RangeUpper  Obesity_Male_RangeLower  \\\n",
              "0                            24.0                     11.8   \n",
              "1                            63.5                     57.9   \n",
              "2                            65.4                     49.7   \n",
              "3                            72.7                     67.8   \n",
              "4                            29.2                     10.9   \n",
              "..                            ...                      ...   \n",
              "190                          66.9                     55.9   \n",
              "191                          21.7                     11.5   \n",
              "192                          47.3                     31.0   \n",
              "193                          27.9                     11.8   \n",
              "194                          36.8                     13.6   \n",
              "\n",
              "     Obesity_Male_RangeUpper  Obesity_Female_RangeLower  \\\n",
              "0                       23.6                       16.8   \n",
              "1                       71.4                       45.8   \n",
              "2                       63.5                       58.3   \n",
              "3                       80.3                       54.6   \n",
              "4                       24.1                       23.1   \n",
              "..                       ...                        ...   \n",
              "190                     68.2                       57.1   \n",
              "191                     21.0                       15.6   \n",
              "192                     45.4                       39.5   \n",
              "193                     22.5                       25.6   \n",
              "194                     24.4                       39.1   \n",
              "\n",
              "     Obesity_Female_RangeUpper  \n",
              "0                         28.5  \n",
              "1                         59.6  \n",
              "2                         71.0  \n",
              "3                         68.8  \n",
              "4                         38.5  \n",
              "..                         ...  \n",
              "190                       69.1  \n",
              "191                       25.8  \n",
              "192                       53.0  \n",
              "193                       36.9  \n",
              "194                       52.1  \n",
              "\n",
              "[195 rows x 10 columns]"
            ]
          },
          "execution_count": 9,
          "metadata": {},
          "output_type": "execute_result"
        }
      ],
      "source": [
        "\n",
        "obesidad = pd.read_excel(\"data_obewsidad.xlsx\")\n",
        "obesidad"
      ]
    },
    {
      "cell_type": "markdown",
      "metadata": {
        "id": "Y9_RA6j-Rn_9"
      },
      "source": [
        "Renombramos sus columnas"
      ]
    },
    {
      "cell_type": "code",
      "execution_count": null,
      "metadata": {
        "id": "ZGrIU7IhRn_9",
        "outputId": "def99ada-9d63-48c0-fdbd-cd49218bca01"
      },
      "outputs": [
        {
          "data": {
            "text/plain": [
              "Index(['Countries, territories and areas', 'Obesity_BothSexes_Value',\n",
              "       'Obesity_Male_Value', 'Obesity_Female_Value',\n",
              "       'Obesity_BothSexes_RangeLower', 'Obesity_BothSexes_RangeUpper',\n",
              "       'Obesity_Male_RangeLower', 'Obesity_Male_RangeUpper',\n",
              "       'Obesity_Female_RangeLower', 'Obesity_Female_RangeUpper'],\n",
              "      dtype='object')"
            ]
          },
          "execution_count": 19,
          "metadata": {},
          "output_type": "execute_result"
        }
      ],
      "source": [
        "obesidad.columns"
      ]
    },
    {
      "cell_type": "code",
      "execution_count": null,
      "metadata": {
        "id": "tTA0fWBcRn_9"
      },
      "outputs": [],
      "source": [
        "obesidad = obesidad.rename(columns={\n",
        "    'Countries, territories and areas': 'Lugar',\n",
        "    'Obesity_BothSexes_Value': 'Obesidad_TodosLosSexos_Valor',\n",
        "    'Obesity_Male_Value': 'Obesidad_Hombres_Valor',\n",
        "    'Obesity_Female_Value': 'Obesidad_Mujeres_Valor',\n",
        "    'Obesity_BothSexes_RangeLower': 'Obesidad_TodosLosSexos_RangoInferior',\n",
        "    'Obesity_BothSexes_RangeUpper': 'Obesidad_TodosLosSexos_RangoSuperior',\n",
        "    'Obesity_Male_RangeLower': 'Obesidad_Hombres_RangoInferior',\n",
        "    'Obesity_Male_RangeUpper': 'Obesidad_Hombres_RangoSuperior',\n",
        "    'Obesity_Female_RangeLower': 'Obesidad_Mujeres_RangoInferior',\n",
        "    'Obesity_Female_RangeUpper': 'Obesidad_Mujeres_RangoSuperior'\n",
        "})"
      ]
    },
    {
      "cell_type": "code",
      "execution_count": null,
      "metadata": {
        "id": "CfKF8m5URn_9",
        "outputId": "0efdb4fb-5e2f-411c-8c34-bbbcbb7d0c64"
      },
      "outputs": [
        {
          "data": {
            "text/plain": [
              "Index(['Lugar', 'Obesidad_TodosLosSexos_Valor', 'Obesidad_Hombres_Valor',\n",
              "       'Obesidad_Mujeres_Valor', 'Obesidad_TodosLosSexos_RangoInferior',\n",
              "       'Obesidad_TodosLosSexos_RangoSuperior',\n",
              "       'Obesidad_Hombres_RangoInferior', 'Obesidad_Hombres_RangoSuperior',\n",
              "       'Obesidad_Mujeres_RangoInferior', 'Obesidad_Mujeres_RangoSuperior'],\n",
              "      dtype='object')"
            ]
          },
          "execution_count": 21,
          "metadata": {},
          "output_type": "execute_result"
        }
      ],
      "source": [
        "obesidad.columns"
      ]
    },
    {
      "cell_type": "markdown",
      "metadata": {
        "id": "XlurF_CxRn_9"
      },
      "source": [
        "## Combinacion de tablas"
      ]
    },
    {
      "cell_type": "markdown",
      "metadata": {
        "id": "wS3pOw97Rn_-"
      },
      "source": [
        "Combinamos las tablas tomando como referencia el Lugar"
      ]
    },
    {
      "cell_type": "code",
      "execution_count": null,
      "metadata": {
        "id": "agnJd6nkRn_-"
      },
      "outputs": [],
      "source": [
        "Consolidado = pd.merge(covid, obesidad, on='Lugar', how='inner')"
      ]
    },
    {
      "cell_type": "code",
      "execution_count": null,
      "metadata": {
        "id": "PmGeKPCKRn_-",
        "outputId": "7e747382-a56b-4cd6-c4a4-6db470cb5a3a"
      },
      "outputs": [
        {
          "data": {
            "text/html": [
              "<div>\n",
              "<style scoped>\n",
              "    .dataframe tbody tr th:only-of-type {\n",
              "        vertical-align: middle;\n",
              "    }\n",
              "\n",
              "    .dataframe tbody tr th {\n",
              "        vertical-align: top;\n",
              "    }\n",
              "\n",
              "    .dataframe thead th {\n",
              "        text-align: right;\n",
              "    }\n",
              "</style>\n",
              "<table border=\"1\" class=\"dataframe\">\n",
              "  <thead>\n",
              "    <tr style=\"text-align: right;\">\n",
              "      <th></th>\n",
              "      <th>Casos</th>\n",
              "      <th>Muertes</th>\n",
              "      <th>Lugar</th>\n",
              "      <th>Continente</th>\n",
              "      <th>Casos_por_100000_hab_ultimos_14_dias</th>\n",
              "      <th>Obesidad_TodosLosSexos_Valor</th>\n",
              "      <th>Obesidad_Hombres_Valor</th>\n",
              "      <th>Obesidad_Mujeres_Valor</th>\n",
              "      <th>Obesidad_TodosLosSexos_RangoInferior</th>\n",
              "      <th>Obesidad_TodosLosSexos_RangoSuperior</th>\n",
              "      <th>Obesidad_Hombres_RangoInferior</th>\n",
              "      <th>Obesidad_Hombres_RangoSuperior</th>\n",
              "      <th>Obesidad_Mujeres_RangoInferior</th>\n",
              "      <th>Obesidad_Mujeres_RangoSuperior</th>\n",
              "    </tr>\n",
              "  </thead>\n",
              "  <tbody>\n",
              "    <tr>\n",
              "      <th>0</th>\n",
              "      <td>0</td>\n",
              "      <td>0</td>\n",
              "      <td>Afghanistan</td>\n",
              "      <td>Asia</td>\n",
              "      <td>0.000000</td>\n",
              "      <td>19.7</td>\n",
              "      <td>17.1</td>\n",
              "      <td>22.2</td>\n",
              "      <td>15.8</td>\n",
              "      <td>24.0</td>\n",
              "      <td>11.8</td>\n",
              "      <td>23.6</td>\n",
              "      <td>16.8</td>\n",
              "      <td>28.5</td>\n",
              "    </tr>\n",
              "    <tr>\n",
              "      <th>1</th>\n",
              "      <td>0</td>\n",
              "      <td>0</td>\n",
              "      <td>Algeria</td>\n",
              "      <td>Africa</td>\n",
              "      <td>0.000000</td>\n",
              "      <td>60.7</td>\n",
              "      <td>56.7</td>\n",
              "      <td>64.8</td>\n",
              "      <td>56.0</td>\n",
              "      <td>65.4</td>\n",
              "      <td>49.7</td>\n",
              "      <td>63.5</td>\n",
              "      <td>58.3</td>\n",
              "      <td>71.0</td>\n",
              "    </tr>\n",
              "    <tr>\n",
              "      <th>2</th>\n",
              "      <td>0</td>\n",
              "      <td>0</td>\n",
              "      <td>Armenia</td>\n",
              "      <td>Europe</td>\n",
              "      <td>0.000000</td>\n",
              "      <td>55.7</td>\n",
              "      <td>54.6</td>\n",
              "      <td>56.9</td>\n",
              "      <td>50.6</td>\n",
              "      <td>60.5</td>\n",
              "      <td>46.8</td>\n",
              "      <td>61.6</td>\n",
              "      <td>49.8</td>\n",
              "      <td>63.4</td>\n",
              "    </tr>\n",
              "    <tr>\n",
              "      <th>3</th>\n",
              "      <td>0</td>\n",
              "      <td>0</td>\n",
              "      <td>Australia</td>\n",
              "      <td>Oceania</td>\n",
              "      <td>0.000000</td>\n",
              "      <td>67.2</td>\n",
              "      <td>73.3</td>\n",
              "      <td>61.3</td>\n",
              "      <td>63.6</td>\n",
              "      <td>70.6</td>\n",
              "      <td>68.4</td>\n",
              "      <td>77.8</td>\n",
              "      <td>55.9</td>\n",
              "      <td>66.5</td>\n",
              "    </tr>\n",
              "    <tr>\n",
              "      <th>4</th>\n",
              "      <td>0</td>\n",
              "      <td>0</td>\n",
              "      <td>Austria</td>\n",
              "      <td>Europe</td>\n",
              "      <td>0.000000</td>\n",
              "      <td>58.1</td>\n",
              "      <td>65.3</td>\n",
              "      <td>51.3</td>\n",
              "      <td>53.3</td>\n",
              "      <td>62.5</td>\n",
              "      <td>58.5</td>\n",
              "      <td>71.5</td>\n",
              "      <td>45.0</td>\n",
              "      <td>57.7</td>\n",
              "    </tr>\n",
              "    <tr>\n",
              "      <th>...</th>\n",
              "      <td>...</td>\n",
              "      <td>...</td>\n",
              "      <td>...</td>\n",
              "      <td>...</td>\n",
              "      <td>...</td>\n",
              "      <td>...</td>\n",
              "      <td>...</td>\n",
              "      <td>...</td>\n",
              "      <td>...</td>\n",
              "      <td>...</td>\n",
              "      <td>...</td>\n",
              "      <td>...</td>\n",
              "      <td>...</td>\n",
              "      <td>...</td>\n",
              "    </tr>\n",
              "    <tr>\n",
              "      <th>47235</th>\n",
              "      <td>138</td>\n",
              "      <td>0</td>\n",
              "      <td>Uzbekistan</td>\n",
              "      <td>Asia</td>\n",
              "      <td>6.743130</td>\n",
              "      <td>45.7</td>\n",
              "      <td>44.9</td>\n",
              "      <td>46.5</td>\n",
              "      <td>40.5</td>\n",
              "      <td>51.0</td>\n",
              "      <td>37.2</td>\n",
              "      <td>52.4</td>\n",
              "      <td>39.4</td>\n",
              "      <td>53.8</td>\n",
              "    </tr>\n",
              "    <tr>\n",
              "      <th>47236</th>\n",
              "      <td>0</td>\n",
              "      <td>0</td>\n",
              "      <td>Vanuatu</td>\n",
              "      <td>Oceania</td>\n",
              "      <td>0.000000</td>\n",
              "      <td>54.1</td>\n",
              "      <td>49.4</td>\n",
              "      <td>58.9</td>\n",
              "      <td>48.0</td>\n",
              "      <td>60.1</td>\n",
              "      <td>40.4</td>\n",
              "      <td>58.2</td>\n",
              "      <td>51.0</td>\n",
              "      <td>66.6</td>\n",
              "    </tr>\n",
              "    <tr>\n",
              "      <th>47237</th>\n",
              "      <td>0</td>\n",
              "      <td>0</td>\n",
              "      <td>Yemen</td>\n",
              "      <td>Asia</td>\n",
              "      <td>0.020575</td>\n",
              "      <td>42.3</td>\n",
              "      <td>38.3</td>\n",
              "      <td>46.3</td>\n",
              "      <td>37.5</td>\n",
              "      <td>47.3</td>\n",
              "      <td>31.0</td>\n",
              "      <td>45.4</td>\n",
              "      <td>39.5</td>\n",
              "      <td>53.0</td>\n",
              "    </tr>\n",
              "    <tr>\n",
              "      <th>47238</th>\n",
              "      <td>57</td>\n",
              "      <td>1</td>\n",
              "      <td>Zambia</td>\n",
              "      <td>Africa</td>\n",
              "      <td>3.728787</td>\n",
              "      <td>23.9</td>\n",
              "      <td>16.7</td>\n",
              "      <td>31</td>\n",
              "      <td>20.2</td>\n",
              "      <td>27.9</td>\n",
              "      <td>11.8</td>\n",
              "      <td>22.5</td>\n",
              "      <td>25.6</td>\n",
              "      <td>36.9</td>\n",
              "    </tr>\n",
              "    <tr>\n",
              "      <th>47239</th>\n",
              "      <td>27</td>\n",
              "      <td>0</td>\n",
              "      <td>Zimbabwe</td>\n",
              "      <td>Africa</td>\n",
              "      <td>8.849151</td>\n",
              "      <td>32.4</td>\n",
              "      <td>18.8</td>\n",
              "      <td>45.5</td>\n",
              "      <td>28.2</td>\n",
              "      <td>36.8</td>\n",
              "      <td>13.6</td>\n",
              "      <td>24.4</td>\n",
              "      <td>39.1</td>\n",
              "      <td>52.1</td>\n",
              "    </tr>\n",
              "  </tbody>\n",
              "</table>\n",
              "<p>47240 rows × 14 columns</p>\n",
              "</div>"
            ],
            "text/plain": [
              "       Casos  Muertes        Lugar Continente  \\\n",
              "0          0        0  Afghanistan       Asia   \n",
              "1          0        0      Algeria     Africa   \n",
              "2          0        0      Armenia     Europe   \n",
              "3          0        0    Australia    Oceania   \n",
              "4          0        0      Austria     Europe   \n",
              "...      ...      ...          ...        ...   \n",
              "47235    138        0   Uzbekistan       Asia   \n",
              "47236      0        0      Vanuatu    Oceania   \n",
              "47237      0        0        Yemen       Asia   \n",
              "47238     57        1       Zambia     Africa   \n",
              "47239     27        0     Zimbabwe     Africa   \n",
              "\n",
              "       Casos_por_100000_hab_ultimos_14_dias Obesidad_TodosLosSexos_Valor  \\\n",
              "0                                  0.000000                         19.7   \n",
              "1                                  0.000000                         60.7   \n",
              "2                                  0.000000                         55.7   \n",
              "3                                  0.000000                         67.2   \n",
              "4                                  0.000000                         58.1   \n",
              "...                                     ...                          ...   \n",
              "47235                              6.743130                         45.7   \n",
              "47236                              0.000000                         54.1   \n",
              "47237                              0.020575                         42.3   \n",
              "47238                              3.728787                         23.9   \n",
              "47239                              8.849151                         32.4   \n",
              "\n",
              "      Obesidad_Hombres_Valor Obesidad_Mujeres_Valor  \\\n",
              "0                       17.1                   22.2   \n",
              "1                       56.7                   64.8   \n",
              "2                       54.6                   56.9   \n",
              "3                       73.3                   61.3   \n",
              "4                       65.3                   51.3   \n",
              "...                      ...                    ...   \n",
              "47235                   44.9                   46.5   \n",
              "47236                   49.4                   58.9   \n",
              "47237                   38.3                   46.3   \n",
              "47238                   16.7                     31   \n",
              "47239                   18.8                   45.5   \n",
              "\n",
              "       Obesidad_TodosLosSexos_RangoInferior  \\\n",
              "0                                      15.8   \n",
              "1                                      56.0   \n",
              "2                                      50.6   \n",
              "3                                      63.6   \n",
              "4                                      53.3   \n",
              "...                                     ...   \n",
              "47235                                  40.5   \n",
              "47236                                  48.0   \n",
              "47237                                  37.5   \n",
              "47238                                  20.2   \n",
              "47239                                  28.2   \n",
              "\n",
              "       Obesidad_TodosLosSexos_RangoSuperior  Obesidad_Hombres_RangoInferior  \\\n",
              "0                                      24.0                            11.8   \n",
              "1                                      65.4                            49.7   \n",
              "2                                      60.5                            46.8   \n",
              "3                                      70.6                            68.4   \n",
              "4                                      62.5                            58.5   \n",
              "...                                     ...                             ...   \n",
              "47235                                  51.0                            37.2   \n",
              "47236                                  60.1                            40.4   \n",
              "47237                                  47.3                            31.0   \n",
              "47238                                  27.9                            11.8   \n",
              "47239                                  36.8                            13.6   \n",
              "\n",
              "       Obesidad_Hombres_RangoSuperior  Obesidad_Mujeres_RangoInferior  \\\n",
              "0                                23.6                            16.8   \n",
              "1                                63.5                            58.3   \n",
              "2                                61.6                            49.8   \n",
              "3                                77.8                            55.9   \n",
              "4                                71.5                            45.0   \n",
              "...                               ...                             ...   \n",
              "47235                            52.4                            39.4   \n",
              "47236                            58.2                            51.0   \n",
              "47237                            45.4                            39.5   \n",
              "47238                            22.5                            25.6   \n",
              "47239                            24.4                            39.1   \n",
              "\n",
              "       Obesidad_Mujeres_RangoSuperior  \n",
              "0                                28.5  \n",
              "1                                71.0  \n",
              "2                                63.4  \n",
              "3                                66.5  \n",
              "4                                57.7  \n",
              "...                               ...  \n",
              "47235                            53.8  \n",
              "47236                            66.6  \n",
              "47237                            53.0  \n",
              "47238                            36.9  \n",
              "47239                            52.1  \n",
              "\n",
              "[47240 rows x 14 columns]"
            ]
          },
          "execution_count": 24,
          "metadata": {},
          "output_type": "execute_result"
        }
      ],
      "source": [
        "Consolidado"
      ]
    },
    {
      "cell_type": "markdown",
      "metadata": {
        "id": "59s9vYuxRn_-"
      },
      "source": [
        "Verificamos registros duplicados y los eliminamos"
      ]
    },
    {
      "cell_type": "code",
      "execution_count": null,
      "metadata": {
        "id": "-X5u04TFRn_-",
        "outputId": "21e7d300-d05d-4871-d4d1-3c910479f450"
      },
      "outputs": [
        {
          "data": {
            "text/plain": [
              "np.int64(8539)"
            ]
          },
          "execution_count": 25,
          "metadata": {},
          "output_type": "execute_result"
        }
      ],
      "source": [
        "Consolidado.duplicated().sum()"
      ]
    },
    {
      "cell_type": "code",
      "execution_count": null,
      "metadata": {
        "id": "JuHcMKSIRn_-",
        "outputId": "b9db7bd8-da2e-44bd-f6c7-70dc74b22784"
      },
      "outputs": [
        {
          "data": {
            "text/html": [
              "<div>\n",
              "<style scoped>\n",
              "    .dataframe tbody tr th:only-of-type {\n",
              "        vertical-align: middle;\n",
              "    }\n",
              "\n",
              "    .dataframe tbody tr th {\n",
              "        vertical-align: top;\n",
              "    }\n",
              "\n",
              "    .dataframe thead th {\n",
              "        text-align: right;\n",
              "    }\n",
              "</style>\n",
              "<table border=\"1\" class=\"dataframe\">\n",
              "  <thead>\n",
              "    <tr style=\"text-align: right;\">\n",
              "      <th></th>\n",
              "      <th>Casos</th>\n",
              "      <th>Muertes</th>\n",
              "      <th>Lugar</th>\n",
              "      <th>Continente</th>\n",
              "      <th>Casos_por_100000_hab_ultimos_14_dias</th>\n",
              "      <th>Obesidad_TodosLosSexos_Valor</th>\n",
              "      <th>Obesidad_Hombres_Valor</th>\n",
              "      <th>Obesidad_Mujeres_Valor</th>\n",
              "      <th>Obesidad_TodosLosSexos_RangoInferior</th>\n",
              "      <th>Obesidad_TodosLosSexos_RangoSuperior</th>\n",
              "      <th>Obesidad_Hombres_RangoInferior</th>\n",
              "      <th>Obesidad_Hombres_RangoSuperior</th>\n",
              "      <th>Obesidad_Mujeres_RangoInferior</th>\n",
              "      <th>Obesidad_Mujeres_RangoSuperior</th>\n",
              "    </tr>\n",
              "  </thead>\n",
              "  <tbody>\n",
              "    <tr>\n",
              "      <th>0</th>\n",
              "      <td>0</td>\n",
              "      <td>0</td>\n",
              "      <td>Afghanistan</td>\n",
              "      <td>Asia</td>\n",
              "      <td>0.000000</td>\n",
              "      <td>19.7</td>\n",
              "      <td>17.1</td>\n",
              "      <td>22.2</td>\n",
              "      <td>15.8</td>\n",
              "      <td>24.0</td>\n",
              "      <td>11.8</td>\n",
              "      <td>23.6</td>\n",
              "      <td>16.8</td>\n",
              "      <td>28.5</td>\n",
              "    </tr>\n",
              "    <tr>\n",
              "      <th>1</th>\n",
              "      <td>0</td>\n",
              "      <td>0</td>\n",
              "      <td>Algeria</td>\n",
              "      <td>Africa</td>\n",
              "      <td>0.000000</td>\n",
              "      <td>60.7</td>\n",
              "      <td>56.7</td>\n",
              "      <td>64.8</td>\n",
              "      <td>56.0</td>\n",
              "      <td>65.4</td>\n",
              "      <td>49.7</td>\n",
              "      <td>63.5</td>\n",
              "      <td>58.3</td>\n",
              "      <td>71.0</td>\n",
              "    </tr>\n",
              "    <tr>\n",
              "      <th>2</th>\n",
              "      <td>0</td>\n",
              "      <td>0</td>\n",
              "      <td>Armenia</td>\n",
              "      <td>Europe</td>\n",
              "      <td>0.000000</td>\n",
              "      <td>55.7</td>\n",
              "      <td>54.6</td>\n",
              "      <td>56.9</td>\n",
              "      <td>50.6</td>\n",
              "      <td>60.5</td>\n",
              "      <td>46.8</td>\n",
              "      <td>61.6</td>\n",
              "      <td>49.8</td>\n",
              "      <td>63.4</td>\n",
              "    </tr>\n",
              "    <tr>\n",
              "      <th>3</th>\n",
              "      <td>0</td>\n",
              "      <td>0</td>\n",
              "      <td>Australia</td>\n",
              "      <td>Oceania</td>\n",
              "      <td>0.000000</td>\n",
              "      <td>67.2</td>\n",
              "      <td>73.3</td>\n",
              "      <td>61.3</td>\n",
              "      <td>63.6</td>\n",
              "      <td>70.6</td>\n",
              "      <td>68.4</td>\n",
              "      <td>77.8</td>\n",
              "      <td>55.9</td>\n",
              "      <td>66.5</td>\n",
              "    </tr>\n",
              "    <tr>\n",
              "      <th>4</th>\n",
              "      <td>0</td>\n",
              "      <td>0</td>\n",
              "      <td>Austria</td>\n",
              "      <td>Europe</td>\n",
              "      <td>0.000000</td>\n",
              "      <td>58.1</td>\n",
              "      <td>65.3</td>\n",
              "      <td>51.3</td>\n",
              "      <td>53.3</td>\n",
              "      <td>62.5</td>\n",
              "      <td>58.5</td>\n",
              "      <td>71.5</td>\n",
              "      <td>45.0</td>\n",
              "      <td>57.7</td>\n",
              "    </tr>\n",
              "    <tr>\n",
              "      <th>...</th>\n",
              "      <td>...</td>\n",
              "      <td>...</td>\n",
              "      <td>...</td>\n",
              "      <td>...</td>\n",
              "      <td>...</td>\n",
              "      <td>...</td>\n",
              "      <td>...</td>\n",
              "      <td>...</td>\n",
              "      <td>...</td>\n",
              "      <td>...</td>\n",
              "      <td>...</td>\n",
              "      <td>...</td>\n",
              "      <td>...</td>\n",
              "      <td>...</td>\n",
              "    </tr>\n",
              "    <tr>\n",
              "      <th>47233</th>\n",
              "      <td>189723</td>\n",
              "      <td>1340</td>\n",
              "      <td>United States of America</td>\n",
              "      <td>America</td>\n",
              "      <td>873.211592</td>\n",
              "      <td>70.2</td>\n",
              "      <td>74.8</td>\n",
              "      <td>65.8</td>\n",
              "      <td>66.8</td>\n",
              "      <td>73.3</td>\n",
              "      <td>70.4</td>\n",
              "      <td>79.0</td>\n",
              "      <td>61.0</td>\n",
              "      <td>70.4</td>\n",
              "    </tr>\n",
              "    <tr>\n",
              "      <th>47234</th>\n",
              "      <td>528</td>\n",
              "      <td>1</td>\n",
              "      <td>Uruguay</td>\n",
              "      <td>America</td>\n",
              "      <td>115.318030</td>\n",
              "      <td>64.5</td>\n",
              "      <td>65.9</td>\n",
              "      <td>63.3</td>\n",
              "      <td>59.8</td>\n",
              "      <td>69.2</td>\n",
              "      <td>59.2</td>\n",
              "      <td>72.3</td>\n",
              "      <td>56.4</td>\n",
              "      <td>69.9</td>\n",
              "    </tr>\n",
              "    <tr>\n",
              "      <th>47235</th>\n",
              "      <td>138</td>\n",
              "      <td>0</td>\n",
              "      <td>Uzbekistan</td>\n",
              "      <td>Asia</td>\n",
              "      <td>6.743130</td>\n",
              "      <td>45.7</td>\n",
              "      <td>44.9</td>\n",
              "      <td>46.5</td>\n",
              "      <td>40.5</td>\n",
              "      <td>51.0</td>\n",
              "      <td>37.2</td>\n",
              "      <td>52.4</td>\n",
              "      <td>39.4</td>\n",
              "      <td>53.8</td>\n",
              "    </tr>\n",
              "    <tr>\n",
              "      <th>47238</th>\n",
              "      <td>57</td>\n",
              "      <td>1</td>\n",
              "      <td>Zambia</td>\n",
              "      <td>Africa</td>\n",
              "      <td>3.728787</td>\n",
              "      <td>23.9</td>\n",
              "      <td>16.7</td>\n",
              "      <td>31</td>\n",
              "      <td>20.2</td>\n",
              "      <td>27.9</td>\n",
              "      <td>11.8</td>\n",
              "      <td>22.5</td>\n",
              "      <td>25.6</td>\n",
              "      <td>36.9</td>\n",
              "    </tr>\n",
              "    <tr>\n",
              "      <th>47239</th>\n",
              "      <td>27</td>\n",
              "      <td>0</td>\n",
              "      <td>Zimbabwe</td>\n",
              "      <td>Africa</td>\n",
              "      <td>8.849151</td>\n",
              "      <td>32.4</td>\n",
              "      <td>18.8</td>\n",
              "      <td>45.5</td>\n",
              "      <td>28.2</td>\n",
              "      <td>36.8</td>\n",
              "      <td>13.6</td>\n",
              "      <td>24.4</td>\n",
              "      <td>39.1</td>\n",
              "      <td>52.1</td>\n",
              "    </tr>\n",
              "  </tbody>\n",
              "</table>\n",
              "<p>38701 rows × 14 columns</p>\n",
              "</div>"
            ],
            "text/plain": [
              "        Casos  Muertes                     Lugar Continente  \\\n",
              "0           0        0               Afghanistan       Asia   \n",
              "1           0        0                   Algeria     Africa   \n",
              "2           0        0                   Armenia     Europe   \n",
              "3           0        0                 Australia    Oceania   \n",
              "4           0        0                   Austria     Europe   \n",
              "...       ...      ...                       ...        ...   \n",
              "47233  189723     1340  United States of America    America   \n",
              "47234     528        1                   Uruguay    America   \n",
              "47235     138        0                Uzbekistan       Asia   \n",
              "47238      57        1                    Zambia     Africa   \n",
              "47239      27        0                  Zimbabwe     Africa   \n",
              "\n",
              "       Casos_por_100000_hab_ultimos_14_dias Obesidad_TodosLosSexos_Valor  \\\n",
              "0                                  0.000000                         19.7   \n",
              "1                                  0.000000                         60.7   \n",
              "2                                  0.000000                         55.7   \n",
              "3                                  0.000000                         67.2   \n",
              "4                                  0.000000                         58.1   \n",
              "...                                     ...                          ...   \n",
              "47233                            873.211592                         70.2   \n",
              "47234                            115.318030                         64.5   \n",
              "47235                              6.743130                         45.7   \n",
              "47238                              3.728787                         23.9   \n",
              "47239                              8.849151                         32.4   \n",
              "\n",
              "      Obesidad_Hombres_Valor Obesidad_Mujeres_Valor  \\\n",
              "0                       17.1                   22.2   \n",
              "1                       56.7                   64.8   \n",
              "2                       54.6                   56.9   \n",
              "3                       73.3                   61.3   \n",
              "4                       65.3                   51.3   \n",
              "...                      ...                    ...   \n",
              "47233                   74.8                   65.8   \n",
              "47234                   65.9                   63.3   \n",
              "47235                   44.9                   46.5   \n",
              "47238                   16.7                     31   \n",
              "47239                   18.8                   45.5   \n",
              "\n",
              "       Obesidad_TodosLosSexos_RangoInferior  \\\n",
              "0                                      15.8   \n",
              "1                                      56.0   \n",
              "2                                      50.6   \n",
              "3                                      63.6   \n",
              "4                                      53.3   \n",
              "...                                     ...   \n",
              "47233                                  66.8   \n",
              "47234                                  59.8   \n",
              "47235                                  40.5   \n",
              "47238                                  20.2   \n",
              "47239                                  28.2   \n",
              "\n",
              "       Obesidad_TodosLosSexos_RangoSuperior  Obesidad_Hombres_RangoInferior  \\\n",
              "0                                      24.0                            11.8   \n",
              "1                                      65.4                            49.7   \n",
              "2                                      60.5                            46.8   \n",
              "3                                      70.6                            68.4   \n",
              "4                                      62.5                            58.5   \n",
              "...                                     ...                             ...   \n",
              "47233                                  73.3                            70.4   \n",
              "47234                                  69.2                            59.2   \n",
              "47235                                  51.0                            37.2   \n",
              "47238                                  27.9                            11.8   \n",
              "47239                                  36.8                            13.6   \n",
              "\n",
              "       Obesidad_Hombres_RangoSuperior  Obesidad_Mujeres_RangoInferior  \\\n",
              "0                                23.6                            16.8   \n",
              "1                                63.5                            58.3   \n",
              "2                                61.6                            49.8   \n",
              "3                                77.8                            55.9   \n",
              "4                                71.5                            45.0   \n",
              "...                               ...                             ...   \n",
              "47233                            79.0                            61.0   \n",
              "47234                            72.3                            56.4   \n",
              "47235                            52.4                            39.4   \n",
              "47238                            22.5                            25.6   \n",
              "47239                            24.4                            39.1   \n",
              "\n",
              "       Obesidad_Mujeres_RangoSuperior  \n",
              "0                                28.5  \n",
              "1                                71.0  \n",
              "2                                63.4  \n",
              "3                                66.5  \n",
              "4                                57.7  \n",
              "...                               ...  \n",
              "47233                            70.4  \n",
              "47234                            69.9  \n",
              "47235                            53.8  \n",
              "47238                            36.9  \n",
              "47239                            52.1  \n",
              "\n",
              "[38701 rows x 14 columns]"
            ]
          },
          "execution_count": 26,
          "metadata": {},
          "output_type": "execute_result"
        }
      ],
      "source": [
        "Consolidado= Consolidado.drop_duplicates()\n",
        "Consolidado"
      ]
    },
    {
      "cell_type": "code",
      "execution_count": null,
      "metadata": {
        "id": "nm-ATQ9pRn_-",
        "outputId": "16be6a77-a525-4865-83c7-74278ce3b5d0"
      },
      "outputs": [
        {
          "name": "stdout",
          "output_type": "stream",
          "text": [
            "<class 'pandas.core.frame.DataFrame'>\n",
            "Index: 38701 entries, 0 to 47239\n",
            "Data columns (total 14 columns):\n",
            " #   Column                                Non-Null Count  Dtype  \n",
            "---  ------                                --------------  -----  \n",
            " 0   Casos                                 38701 non-null  int64  \n",
            " 1   Muertes                               38701 non-null  int64  \n",
            " 2   Lugar                                 38701 non-null  object \n",
            " 3   Continente                            38701 non-null  object \n",
            " 4   Casos_por_100000_hab_ultimos_14_dias  38701 non-null  float64\n",
            " 5   Obesidad_TodosLosSexos_Valor          38701 non-null  object \n",
            " 6   Obesidad_Hombres_Valor                38701 non-null  object \n",
            " 7   Obesidad_Mujeres_Valor                38701 non-null  object \n",
            " 8   Obesidad_TodosLosSexos_RangoInferior  37917 non-null  float64\n",
            " 9   Obesidad_TodosLosSexos_RangoSuperior  37917 non-null  float64\n",
            " 10  Obesidad_Hombres_RangoInferior        37917 non-null  float64\n",
            " 11  Obesidad_Hombres_RangoSuperior        37917 non-null  float64\n",
            " 12  Obesidad_Mujeres_RangoInferior        37917 non-null  float64\n",
            " 13  Obesidad_Mujeres_RangoSuperior        37917 non-null  float64\n",
            "dtypes: float64(7), int64(2), object(5)\n",
            "memory usage: 4.4+ MB\n"
          ]
        }
      ],
      "source": [
        "Consolidado.info()"
      ]
    },
    {
      "cell_type": "markdown",
      "metadata": {
        "id": "e_a-qyPJRn__"
      },
      "source": [
        "Eliminamos filas que quedan aun vacias o inconsistentes"
      ]
    },
    {
      "cell_type": "code",
      "execution_count": null,
      "metadata": {
        "id": "EvN9_EjhRn__"
      },
      "outputs": [],
      "source": [
        "Consolidado= Consolidado[(Consolidado[\"Obesidad_TodosLosSexos_Valor\"] != \"No data\")]"
      ]
    },
    {
      "cell_type": "markdown",
      "metadata": {
        "id": "G5i_KexJRn__"
      },
      "source": [
        "## Observando si hay relacion lineal"
      ]
    },
    {
      "cell_type": "code",
      "execution_count": null,
      "metadata": {
        "id": "FiwAG14LRn__",
        "outputId": "fa1fdeb6-cc2f-49ce-ca8a-24abe4fbb717"
      },
      "outputs": [
        {
          "data": {
            "image/png": "[encoded data removed]",
            "text/plain": [
              "<Figure size 800x600 with 2 Axes>"
            ]
          },
          "metadata": {},
          "output_type": "display_data"
        }
      ],
      "source": [
        "import matplotlib.pyplot as plt\n",
        "import seaborn as sns\n",
        "\n",
        "# Suponiendo que tu DataFrame se llama 'Consolidado'\n",
        "# 1. Mapa de Calor de Correlaciones\n",
        "correlation_matrix = Consolidado[['Casos', 'Muertes','Casos_por_100000_hab_ultimos_14_dias', 'Obesidad_TodosLosSexos_Valor',\n",
        "                                  'Obesidad_Hombres_Valor', 'Obesidad_Mujeres_Valor']].corr()\n",
        "\n",
        "plt.figure(figsize=(8,6))\n",
        "sns.heatmap(correlation_matrix, annot=True, cmap='coolwarm', fmt='.2f', linewidths=0.5)\n",
        "plt.title('Mapa de Calor de Correlaciones')\n",
        "plt.show()"
      ]
    },
    {
      "cell_type": "code",
      "execution_count": null,
      "metadata": {
        "id": "AzYfWyWYRn__",
        "outputId": "a00d4416-de88-4ee5-8705-cd0519183057"
      },
      "outputs": [
        {
          "data": {
            "text/plain": [
              "<Axes: xlabel='Obesidad_Hombres_Valor', ylabel='Muertes'>"
            ]
          },
          "execution_count": 43,
          "metadata": {},
          "output_type": "execute_result"
        },
        {
          "data": {
            "image/png": "[encoded data removed]",
            "text/plain": [
              "<Figure size 640x480 with 1 Axes>"
            ]
          },
          "metadata": {},
          "output_type": "display_data"
        }
      ],
      "source": [
        "sns.scatterplot(x= 'Obesidad_Hombres_Valor', y='Muertes', data= Consolidado, hue='Continente')"
      ]
    },
    {
      "cell_type": "markdown",
      "metadata": {
        "id": "sHvqOckpRn__"
      },
      "source": [
        "## Se concluye que no hay una relacion lineal entre variables de muerte o casos con la obesidad como tal"
      ]
    },
    {
      "cell_type": "code",
      "execution_count": null,
      "metadata": {
        "id": "p61eqhfZRoAA",
        "outputId": "8f6afe07-263a-424a-c6b4-673837d732eb"
      },
      "outputs": [
        {
          "name": "stdout",
          "output_type": "stream",
          "text": [
            "Correlación de Pearson: 0.11584016228095398\n"
          ]
        }
      ],
      "source": [
        "correlation = Consolidado['Muertes'].corr(Consolidado['Obesidad_TodosLosSexos_Valor'])\n",
        "print(f\"Correlación de Pearson: {correlation}\")\n"
      ]
    },
    {
      "cell_type": "markdown",
      "metadata": {
        "id": "iSyTSubnRoAA"
      },
      "source": [
        "## Cantidad de muertes por intervalo"
      ]
    },
    {
      "cell_type": "code",
      "execution_count": null,
      "metadata": {
        "id": "zM9VUcomRoAB",
        "outputId": "a04b5d69-dac2-4da3-de79-d740a16c0cff"
      },
      "outputs": [
        {
          "name": "stderr",
          "output_type": "stream",
          "text": [
            "C:\\Users\\Usuario\\AppData\\Local\\Temp\\ipykernel_22832\\3112886434.py:5: SettingWithCopyWarning: \n",
            "A value is trying to be set on a copy of a slice from a DataFrame.\n",
            "Try using .loc[row_indexer,col_indexer] = value instead\n",
            "\n",
            "See the caveats in the documentation: https://pandas.pydata.org/pandas-docs/stable/user_guide/indexing.html#returning-a-view-versus-a-copy\n",
            "  Consolidado['Obesidad_Hombres_Rango'] = pd.cut(Consolidado['Obesidad_Hombres_Valor'], bins=range(20, 85, 10), right=False)\n",
            "C:\\Users\\Usuario\\AppData\\Local\\Temp\\ipykernel_22832\\3112886434.py:6: SettingWithCopyWarning: \n",
            "A value is trying to be set on a copy of a slice from a DataFrame.\n",
            "Try using .loc[row_indexer,col_indexer] = value instead\n",
            "\n",
            "See the caveats in the documentation: https://pandas.pydata.org/pandas-docs/stable/user_guide/indexing.html#returning-a-view-versus-a-copy\n",
            "  Consolidado['Obesidad_Mujeres_Rango'] = pd.cut(Consolidado['Obesidad_Mujeres_Valor'], bins=range(20, 85, 10), right=False)\n",
            "C:\\Users\\Usuario\\AppData\\Local\\Temp\\ipykernel_22832\\3112886434.py:7: SettingWithCopyWarning: \n",
            "A value is trying to be set on a copy of a slice from a DataFrame.\n",
            "Try using .loc[row_indexer,col_indexer] = value instead\n",
            "\n",
            "See the caveats in the documentation: https://pandas.pydata.org/pandas-docs/stable/user_guide/indexing.html#returning-a-view-versus-a-copy\n",
            "  Consolidado['Obesidad_TodosLosSexos_Rango'] = pd.cut(Consolidado['Obesidad_TodosLosSexos_Valor'], bins=range(20, 85, 10), right=False)\n",
            "C:\\Users\\Usuario\\AppData\\Local\\Temp\\ipykernel_22832\\3112886434.py:10: FutureWarning: The default of observed=False is deprecated and will be changed to True in a future version of pandas. Pass observed=False to retain current behavior or observed=True to adopt the future default and silence this warning.\n",
            "  muertes_por_rango_hombres = Consolidado.groupby('Obesidad_Hombres_Rango')['Muertes'].sum()\n",
            "C:\\Users\\Usuario\\AppData\\Local\\Temp\\ipykernel_22832\\3112886434.py:11: FutureWarning: The default of observed=False is deprecated and will be changed to True in a future version of pandas. Pass observed=False to retain current behavior or observed=True to adopt the future default and silence this warning.\n",
            "  muertes_por_rango_mujeres = Consolidado.groupby('Obesidad_Mujeres_Rango')['Muertes'].sum()\n",
            "C:\\Users\\Usuario\\AppData\\Local\\Temp\\ipykernel_22832\\3112886434.py:12: FutureWarning: The default of observed=False is deprecated and will be changed to True in a future version of pandas. Pass observed=False to retain current behavior or observed=True to adopt the future default and silence this warning.\n",
            "  muertes_por_rango_total = Consolidado.groupby('Obesidad_TodosLosSexos_Rango')['Muertes'].sum()\n",
            "C:\\Users\\Usuario\\AppData\\Local\\Temp\\ipykernel_22832\\3112886434.py:14: FutureWarning: The default of observed=False is deprecated and will be changed to True in a future version of pandas. Pass observed=False to retain current behavior or observed=True to adopt the future default and silence this warning.\n",
            "  contagios_por_rango_hombres = Consolidado.groupby('Obesidad_Hombres_Rango')['Casos'].sum()\n",
            "C:\\Users\\Usuario\\AppData\\Local\\Temp\\ipykernel_22832\\3112886434.py:15: FutureWarning: The default of observed=False is deprecated and will be changed to True in a future version of pandas. Pass observed=False to retain current behavior or observed=True to adopt the future default and silence this warning.\n",
            "  contagios_por_rango_mujeres = Consolidado.groupby('Obesidad_Mujeres_Rango')['Casos'].sum()\n",
            "C:\\Users\\Usuario\\AppData\\Local\\Temp\\ipykernel_22832\\3112886434.py:16: FutureWarning: The default of observed=False is deprecated and will be changed to True in a future version of pandas. Pass observed=False to retain current behavior or observed=True to adopt the future default and silence this warning.\n",
            "  contagios_por_rango_total = Consolidado.groupby('Obesidad_TodosLosSexos_Rango')['Casos'].sum()\n",
            "C:\\Users\\Usuario\\AppData\\Local\\Temp\\ipykernel_22832\\3112886434.py:22: FutureWarning: \n",
            "\n",
            "Passing `palette` without assigning `hue` is deprecated and will be removed in v0.14.0. Assign the `x` variable to `hue` and set `legend=False` for the same effect.\n",
            "\n",
            "  sns.barplot(x=muertes_por_rango_hombres.index.astype(str), y=muertes_por_rango_hombres.values, palette='Blues_d', ax=axes[0, 0])\n",
            "C:\\Users\\Usuario\\AppData\\Local\\Temp\\ipykernel_22832\\3112886434.py:29: FutureWarning: \n",
            "\n",
            "Passing `palette` without assigning `hue` is deprecated and will be removed in v0.14.0. Assign the `x` variable to `hue` and set `legend=False` for the same effect.\n",
            "\n",
            "  sns.barplot(x=muertes_por_rango_mujeres.index.astype(str), y=muertes_por_rango_mujeres.values, palette='Blues_d', ax=axes[0, 1])\n",
            "C:\\Users\\Usuario\\AppData\\Local\\Temp\\ipykernel_22832\\3112886434.py:36: FutureWarning: \n",
            "\n",
            "Passing `palette` without assigning `hue` is deprecated and will be removed in v0.14.0. Assign the `x` variable to `hue` and set `legend=False` for the same effect.\n",
            "\n",
            "  sns.barplot(x=muertes_por_rango_total.index.astype(str), y=muertes_por_rango_total.values, palette='Blues_d', ax=axes[0, 2])\n",
            "C:\\Users\\Usuario\\AppData\\Local\\Temp\\ipykernel_22832\\3112886434.py:43: FutureWarning: \n",
            "\n",
            "Passing `palette` without assigning `hue` is deprecated and will be removed in v0.14.0. Assign the `x` variable to `hue` and set `legend=False` for the same effect.\n",
            "\n",
            "  sns.barplot(x=contagios_por_rango_hombres.index.astype(str), y=contagios_por_rango_hombres.values, palette='Blues_d', ax=axes[1, 0])\n",
            "C:\\Users\\Usuario\\AppData\\Local\\Temp\\ipykernel_22832\\3112886434.py:50: FutureWarning: \n",
            "\n",
            "Passing `palette` without assigning `hue` is deprecated and will be removed in v0.14.0. Assign the `x` variable to `hue` and set `legend=False` for the same effect.\n",
            "\n",
            "  sns.barplot(x=contagios_por_rango_mujeres.index.astype(str), y=contagios_por_rango_mujeres.values, palette='Blues_d', ax=axes[1, 1])\n",
            "C:\\Users\\Usuario\\AppData\\Local\\Temp\\ipykernel_22832\\3112886434.py:57: FutureWarning: \n",
            "\n",
            "Passing `palette` without assigning `hue` is deprecated and will be removed in v0.14.0. Assign the `x` variable to `hue` and set `legend=False` for the same effect.\n",
            "\n",
            "  sns.barplot(x=contagios_por_rango_total.index.astype(str), y=contagios_por_rango_total.values, palette='Blues_d', ax=axes[1, 2])\n"
          ]
        },
        {
          "data": {
            "image/png": "[encoded data removed]",
            "text/plain": [
              "<Figure size 1800x1000 with 6 Axes>"
            ]
          },
          "metadata": {},
          "output_type": "display_data"
        }
      ],
      "source": [
        "import matplotlib.pyplot as plt\n",
        "import seaborn as sns\n",
        "\n",
        "\n",
        "Consolidado['Obesidad_Hombres_Rango'] = pd.cut(Consolidado['Obesidad_Hombres_Valor'], bins=range(20, 85, 10), right=False)\n",
        "Consolidado['Obesidad_Mujeres_Rango'] = pd.cut(Consolidado['Obesidad_Mujeres_Valor'], bins=range(20, 85, 10), right=False)\n",
        "Consolidado['Obesidad_TodosLosSexos_Rango'] = pd.cut(Consolidado['Obesidad_TodosLosSexos_Valor'], bins=range(20, 85, 10), right=False)\n",
        "\n",
        "\n",
        "muertes_por_rango_hombres = Consolidado.groupby('Obesidad_Hombres_Rango')['Muertes'].sum()\n",
        "muertes_por_rango_mujeres = Consolidado.groupby('Obesidad_Mujeres_Rango')['Muertes'].sum()\n",
        "muertes_por_rango_total = Consolidado.groupby('Obesidad_TodosLosSexos_Rango')['Muertes'].sum()\n",
        "\n",
        "contagios_por_rango_hombres = Consolidado.groupby('Obesidad_Hombres_Rango')['Casos'].sum()\n",
        "contagios_por_rango_mujeres = Consolidado.groupby('Obesidad_Mujeres_Rango')['Casos'].sum()\n",
        "contagios_por_rango_total = Consolidado.groupby('Obesidad_TodosLosSexos_Rango')['Casos'].sum()\n",
        "\n",
        "\n",
        "fig, axes = plt.subplots(2, 3, figsize=(18,10))\n",
        "\n",
        "# Muertes por rango de obesidad en hombres\n",
        "sns.barplot(x=muertes_por_rango_hombres.index.astype(str), y=muertes_por_rango_hombres.values, palette='Blues_d', ax=axes[0, 0])\n",
        "axes[0, 0].set_title('Muertes por Obesidad en Hombres')\n",
        "axes[0, 0].set_xlabel('Rango de Obesidad (%)')\n",
        "axes[0, 0].set_ylabel('Número de Muertes')\n",
        "axes[0, 0].tick_params(axis='x', rotation=45)\n",
        "\n",
        "# Muertes por rango de obesidad en mujeres\n",
        "sns.barplot(x=muertes_por_rango_mujeres.index.astype(str), y=muertes_por_rango_mujeres.values, palette='Blues_d', ax=axes[0, 1])\n",
        "axes[0, 1].set_title('Muertes por Obesidad en Mujeres')\n",
        "axes[0, 1].set_xlabel('Rango de Obesidad (%)')\n",
        "axes[0, 1].set_ylabel('Número de Muertes')\n",
        "axes[0, 1].tick_params(axis='x', rotation=45)\n",
        "\n",
        "# Muertes por rango de obesidad total\n",
        "sns.barplot(x=muertes_por_rango_total.index.astype(str), y=muertes_por_rango_total.values, palette='Blues_d', ax=axes[0, 2])\n",
        "axes[0, 2].set_title('Muertes por Obesidad Total')\n",
        "axes[0, 2].set_xlabel('Rango de Obesidad (%)')\n",
        "axes[0, 2].set_ylabel('Número de Muertes')\n",
        "axes[0, 2].tick_params(axis='x', rotation=45)\n",
        "\n",
        "# Contagios por rango de obesidad en hombres\n",
        "sns.barplot(x=contagios_por_rango_hombres.index.astype(str), y=contagios_por_rango_hombres.values, palette='Blues_d', ax=axes[1, 0])\n",
        "axes[1, 0].set_title('Contagios por Obesidad en Hombres')\n",
        "axes[1, 0].set_xlabel('Rango de Obesidad (%)')\n",
        "axes[1, 0].set_ylabel('Número de Casos')\n",
        "axes[1, 0].tick_params(axis='x', rotation=45)\n",
        "\n",
        "# Contagios por rango de obesidad en mujeres\n",
        "sns.barplot(x=contagios_por_rango_mujeres.index.astype(str), y=contagios_por_rango_mujeres.values, palette='Blues_d', ax=axes[1, 1])\n",
        "axes[1, 1].set_title('Contagios por Obesidad en Mujeres')\n",
        "axes[1, 1].set_xlabel('Rango de Obesidad (%)')\n",
        "axes[1, 1].set_ylabel('Número de Casos')\n",
        "axes[1, 1].tick_params(axis='x', rotation=45)\n",
        "\n",
        "# Contagios por rango de obesidad total\n",
        "sns.barplot(x=contagios_por_rango_total.index.astype(str), y=contagios_por_rango_total.values, palette='Blues_d', ax=axes[1, 2])\n",
        "axes[1, 2].set_title('Contagios por Obesidad Total')\n",
        "axes[1, 2].set_xlabel('Rango de Obesidad (%)')\n",
        "axes[1, 2].set_ylabel('Número de Casos')\n",
        "axes[1, 2].tick_params(axis='x', rotation=45)\n",
        "\n",
        "# Ajuste de los gráficos\n",
        "plt.tight_layout()\n",
        "plt.show()\n"
      ]
    },
    {
      "cell_type": "markdown",
      "metadata": {
        "id": "EbbgCOV2RoAB"
      },
      "source": [
        "Observamos que en su mayoria de casos de contagios y muertes muchas de ellas coinciden con intervalos mayores en obesidad  "
      ]
    }
  ],
  "metadata": {
    "kernelspec": {
      "display_name": "Python 3",
      "language": "python",
      "name": "python3"
    },
    "language_info": {
      "codemirror_mode": {
        "name": "ipython",
        "version": 3
      },
      "file_extension": ".py",
      "mimetype": "text/x-python",
      "name": "python",
      "nbconvert_exporter": "python",
      "pygments_lexer": "ipython3",
      "version": "3.12.3"
    },
    "colab": {
      "provenance": [],
      "collapsed_sections": [
        "XlurF_CxRn_9"
      ],
      "include_colab_link": true
    }
  },
  "nbformat": 4,
  "nbformat_minor": 0
}